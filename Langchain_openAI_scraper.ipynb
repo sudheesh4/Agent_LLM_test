{
 "cells": [
  {
   "cell_type": "code",
   "execution_count": 20,
   "id": "ba00f2cb-2c0a-4385-bc69-bb3b9e85f585",
   "metadata": {},
   "outputs": [],
   "source": [
    "from langchain.llms import GooglePalm\n",
    "from langchain.chat_models import ChatGooglePalm\n",
    "from langchain.chat_models import ChatOpenAI\n",
    "\n",
    "PALM_API=\"\"\n",
    "openai_key=\"\"\n",
    "\n",
    "temperature=0\n",
    "#llm=GooglePalm(google_api_key=PALM_API,temperature=temperature)\n",
    "#llm=ChatGooglePalm(google_api_key=PALM_API,temperature=temperature,stream=True)\n",
    "\n",
    "llm = ChatOpenAI(temperature=0, model=\"gpt-3.5-turbo-0613\", openai_api_key=openai_key)"
   ]
  },
  {
   "cell_type": "code",
   "execution_count": 11,
   "id": "5cf2433a-cfde-41a2-bc87-0e40ed230c4f",
   "metadata": {},
   "outputs": [],
   "source": [
    "from bs4 import BeautifulSoup\n",
    "\n",
    "from langchain.chains import create_extraction_chain\n",
    "import regex as re\n",
    "import time\n",
    "#import pywhatkit\n",
    "from datetime import datetime\n",
    "\n",
    "from selenium import webdriver\n",
    "\n",
    "import time\n",
    "\n",
    "from selenium import webdriver\n",
    "from selenium.webdriver.chrome.options import Options\n",
    "from selenium.webdriver.common.by import By\n",
    "from selenium.webdriver.common.keys import Keys\n",
    "from selenium.webdriver.support.ui import Select, WebDriverWait\n",
    "import os\n",
    "\n",
    "import copy\n",
    "from bs4 import BeautifulSoup\n",
    "import requests "
   ]
  },
  {
   "cell_type": "code",
   "execution_count": null,
   "id": "267e8d9b-e288-4717-b6fc-74380eb251f4",
   "metadata": {},
   "outputs": [],
   "source": []
  },
  {
   "cell_type": "code",
   "execution_count": null,
   "id": "ac04407c-afc8-47df-afd8-890f5c725afb",
   "metadata": {},
   "outputs": [],
   "source": []
  },
  {
   "cell_type": "code",
   "execution_count": 12,
   "id": "d95c73a3-48dc-4900-bd9d-ef573c409ce6",
   "metadata": {},
   "outputs": [],
   "source": [
    "def getdata(url):\n",
    "    driver = webdriver.Chrome()\n",
    "    driver.get(url)\n",
    "    page_source=driver.find_element(By.TAG_NAME,'body').get_attribute(\"innerHTML\")\n",
    "    soup = BeautifulSoup(page_source, \"html.parser\")\n",
    "    driver.quit()\n",
    "\n",
    "    txt=soup.get_text()\n",
    "    return txt"
   ]
  },
  {
   "cell_type": "code",
   "execution_count": 22,
   "id": "ea3af6da-9d78-4425-8d10-ed467f632008",
   "metadata": {},
   "outputs": [],
   "source": [
    "url=\"https://www.bbc.com/news\"\n",
    "\n",
    "output=getdata(url)"
   ]
  },
  {
   "cell_type": "code",
   "execution_count": 23,
   "id": "086d9993-1b7c-4ef4-ac33-58fc04d7a573",
   "metadata": {},
   "outputs": [
    {
     "data": {
      "text/plain": [
       "'RegisterSign InHomeNewsSportBusinessInnovationCultureTravelEarthVideoLiveNewsIsrael-Gaza WarWar in UkraineWorldUS & CanadaUKIn PicturesBBC VerifyGas pollution fear after Iceland volcano eruptionThe eruption, in south-west Iceland, led to half the sky being \"lit up in red\", an eyewitness says.1 hr agoEuropeWATCHSpectacular footage of eruptionIn pictures: Lava flows in IcelandBBC coverage as volcano erupts WATCHSpectacular footage of eruptionIn pictures: Lava flows in IcelandBBC coverage as volcano erupts LIVEWatch: Iceland volcano erupting after weeks of earthquake activityThousands have been evacuated from the fishing town of Grindavik, about 4km from where the eruption started.7 hrs agoJonathan Majors: The downfall of Marvel\\'s rising starAn assault conviction leaves the actor\\'s career in tatters and questions over where Marvel goes next.5 hrs agoEntertainment & ArtsLIVEAid agencies voice frustration as UN discusses Gaza ceasefire voteHumanitarian organisations in Geneva once again voice their anger at the continued suffering of civilians.Italian influencer sorry for hospital cake claimChiara Ferragni was fined for claiming sales of a Christmas pandoro would fund a children\\'s hospital.6 hrs agoEuropeLIVEWatch: Iceland volcano erupting after weeks of earthquake activityThousands have been evacuated from the fishing town of Grindavik, about 4km from where the eruption started.7 hrs agoChina rescuers brave cold as quake toll mountsThe 6.2 magnitude earthquake flattened mountain villages in one of the country\\'s poorest regions.3 hrs agoChinaJonathan Majors: The downfall of Marvel\\'s rising starAn assault conviction leaves the actor\\'s career in tatters and questions over where Marvel goes next.5 hrs agoEntertainment & ArtsMeta steadfast on Canada news ban as law comes online11 hrs agoUS & CanadaLIVEUkraine is not starting to lose this war - ZelenskyCouple lose case over $165 mask sold for millions4 hrs agoEuropeWATCHWolves released into Colorado mountains5 hrs agoUS & CanadaGoogle to pay $700m to settle antitrust lawsuit51 mins agoBusinessSpider-Man 2 studio victim of huge hack6 hrs agoNewsbeat$857m awarded over leaking lights at US school10 hrs agoBusinessNasa beams cat video from deep space with laser6 hrs agoTechnologyIsrael-Gaza WarThai hostage speaks of captivity with Israelis killed by mistake 20 hrs agoAsiaFootage shows inside of \\'biggest ever\\' Gaza tunnel 1 day agoMiddle EastHamas shows video of three elderly Israeli hostages 20 hrs agoMiddle EastBP pauses all Red Sea shipments after rebel attacks 20 hrs agoBusinessGazans trapped in church \\'fear being shot\\' 1 day agoMiddle EastFeatures and analysisSpectacular photos of eruption in Iceland6 hrs agoThe staggering cost of going all out on Christmas decorationsSome Americans spend thousands each year on their elaborate holiday displays.2 hrs agoHow AI may affect India\\'s vast film industryAs AI enters Indian films, experts say it\\'s time to deal with its ethical and creative ramifications.20 hrs agoIndiaWhy this Iceland volcano won\\'t cause flight chaosThe Reykjanes eruption will not cause same travel disruption as 2010\\'s Eyjafjallajökull volcano.5 hrs agoScience & EnvironmentWhat do Red Sea assaults mean for global trade?Supply chains face disruption due to vessels diverting away from the key shipping route.3 hrs agoBusinessThe staggering cost of going all out on Christmas decorationsSome Americans spend thousands each year on their elaborate holiday displays.2 hrs ago\\'I was raped while sleeping under a pier in Blackpool\\'Homeless people tell the BBC about violent, sexual and degrading attacks they suffer as they sleep.14 hrs agoUKThe UK family travelling plane-free to AustraliaA family have reached Indonesia without flying after a journey of three and a half months.22 hrs agoSomersetHow AI may affect India\\'s vast film industryAs AI enters Indian films, experts say it\\'s time to deal with its ethical and creative ramifications.20 hrs agoIndiaMost watched1WATCHWatch: Wolves released into Colorado mountains2WATCHSpectacular footage of Iceland volcanic eruption3WATCHCar flips and narrowly misses woman with child4WATCHWatch: Diners sprint from cafe as deadly China quake hits5WATCH\\'My kidnappers showed me off like a trophy\\'6BBC World Service7WATCHConstituents react to DUP boycott continuing8WATCHWatch: Crocodile and wallaby captured in Australia floods9WATCHWatch: Delia\\'s car hit by objects ahead of derby10WATCHBiden ushered to safety after car crashes into motorcadeAlso in newsThe incredible journey of Nigeria’s viral ballet boyThree years ago, we met 11-year-old Anthony Madu, a Nigerian boy who loved ballet. Now he\\'s a ballet student in the UK.5 hrs agoAfricaHow to handle your first sober ChristmasChristmas and booze often go hand-in-hand, so how do you say no, no, no when the drinks start to flow?8 hrs agoNewsbeatWhy LEDs haven\\'t yet cut energy use for lightingLEDs are cheap and efficient but more needs to be done if they are to cut electricity use on lighting.18 hrs agoBusinessAmazon to make Warhammer 40,000 shows and moviesThe streaming platform will have exclusive rights to make content based on Games Workshop\\'s popular brand.18 hrs agoBusinessFlooded Queensland towns isolated as supplies dwindleHundreds of people still require rescue from croc-infested floodwaters and one man is missing.8 hrs agoAustraliaHow to handle your first sober ChristmasChristmas and booze often go hand-in-hand, so how do you say no, no, no when the drinks start to flow?8 hrs agoNewsbeatWatch: Diners sprint from cafe as deadly China quake hitsCCTV footage shows customers and staff pausing for a moment before scrambling for the exit.3 hrs agoAsiaDNA sleuths crack 2,000 year-old migrant mysteryResearch on a skeleton dug up during roadworks have shed light on the history of Roman Britain.3 hrs agoScience & EnvironmentWhy LEDs haven\\'t yet cut energy use for lightingLEDs are cheap and efficient but more needs to be done if they are to cut electricity use on lighting.18 hrs agoBusinessMost read1Gas pollution fear after Iceland volcano eruption2Couple lose case over €150 mask sold for millions3Italian influencer sorry for hospital cake claim4Fierce Russia reaction to Finland-US border accord5Jonathan Majors: The downfall of Marvel\\'s rising star6The family travelling to Australia without flying7China rescuers brave cold as quake toll mounts8Parenting YouTube star pleads guilty to child abuse9Nasa beams cat video from deep space with laser10Pope says priests can bless same-sex couplesSportLIVESports Personality of the Year 2023 - follow build-up to 70th showFollow live build-up to the 2023 Sports Personality of the Year as the show celebrates its 70th show.LIVEClub World Cup: Man City face Urawa Reds for place in finalFollow live text updates as Manchester City play Urawa Red Diamonds in the Club World Cup.Forest confirm Cooper sacking & in talks with NunoNottingham Forest sack manager Steve Cooper, who led them to promotion in 2022, after one win in their past six Premier League games.56 mins agoNottm ForestMuller, 34, signs contract extension with Bayern Thomas Muller signs a one-year contract extension with Bayern Munich, where he has spent 15 years and made 684 appearances.2 hrs agoEuropean FootballNo plans to regulate shin pad sizes - IfabFootball\\'s lawmakers have no plans to regulate shin pad dimensions despite concerns over their shrinking size.2 hrs agoFootballLIVEClub World Cup: Man City face Urawa Reds for place in finalFollow live text updates as Manchester City play Urawa Red Diamonds in the Club World Cup.Starc breaks record for most expensive buy at IPLAustralia bowler Mitchell Starc becomes the most expensive signing in Indian Premier League history on being bought by Kolkata Knight Riders.3 hrs agoCricketNunez \\'full of fire\\' as Liverpool host HammersLiverpool forward Darwin Nunez is \"full of fire\" and cannot only be judged on goals, says assistant boss Pep Lijnders.2 hrs agoLeague CupForest confirm Cooper sacking & in talks with NunoNottingham Forest sack manager Steve Cooper, who led them to promotion in 2022, after one win in their past six Premier League games.56 mins agoNottm ForestHomeNewsSportBusinessInnovationCultureTravelEarthVideoLiveBBC ShopBBC in other languagesTerms of UseAbout the BBCPrivacy PolicyCookiesAccessibility HelpContact the BBCAdvertise with usAdChoices/ Do Not Sell My InfoCopyright 2023 BBC. All rights reserved.\\xa0\\xa0The BBC is not responsible for the content of external sites.\\xa0Read about our approach to external linking.Beta Terms By using the Beta Site, you agree that such use is at your own risk and you know that the Beta Site may include known or unknown bugs or errors, that we have no obligation to make this Beta Site available with or without charge for any period of time, nor to make it available at all, and that nothing in these Beta Terms or your use of the Beta Site creates any employment relationship between you and us. The Beta Site is provided on an “as is” and “as available” basis and we make no warranty to you of any kind, express or implied.In case of conflict between these Beta Terms and the BBC Terms of Use these Beta Terms shall prevail.RegisterSign InHomeNewsNewsIsrael-Gaza WarWar in UkraineWorldWorldAfricaAsiaAustraliaEuropeLatin AmericaMiddle EastUS & CanadaUKUKEnglandN. IrelandScotlandWalesIn PicturesBBC VerifySportBusinessBusinessFuture of BusinessTechnology of BusinessWork CultureMarket DataInnovationInnovationTechnologyScience & HealthArtificial IntelligenceCultureCultureFilm & TVMusicArt & DesignStyleBooksEntertainment NewsTravelTravelDestinationsWorld’s TableCulture & ExperiencesAdventuresThe SpeciaListEarthEarthNatural WondersWeather & ScienceClimate SolutionsSustainable BusinessGreen LivingVideoLiveLiveLive NewsLive SportAudio'"
      ]
     },
     "execution_count": 23,
     "metadata": {},
     "output_type": "execute_result"
    }
   ],
   "source": [
    "output"
   ]
  },
  {
   "cell_type": "code",
   "execution_count": 26,
   "id": "bdd48521-7257-4f0b-b96f-ce9fc2e156b1",
   "metadata": {},
   "outputs": [
    {
     "data": {
      "text/plain": [
       "[{'Headline': 'Gas pollution fear after Iceland volcano eruption',\n",
       "  'Description': 'The eruption, in south-west Iceland, led to half the sky being \"lit up in red\", an eyewitness says.',\n",
       "  'Time': '1 hr ago',\n",
       "  'Location': 'Iceland'},\n",
       " {'Headline': 'Spectacular footage of eruption',\n",
       "  'Description': 'In pictures: Lava flows in Iceland',\n",
       "  'Time': '7 hrs ago',\n",
       "  'Location': 'Iceland'},\n",
       " {'Headline': \"Jonathan Majors: The downfall of Marvel's rising star\",\n",
       "  'Description': \"An assault conviction leaves the actor's career in tatters and questions over where Marvel goes next.\",\n",
       "  'Time': '5 hrs ago'},\n",
       " {'Headline': 'Aid agencies voice frustration as UN discusses Gaza ceasefire vote',\n",
       "  'Description': 'Humanitarian organisations in Geneva once again voice their anger at the continued suffering of civilians.',\n",
       "  'Time': '6 hrs ago',\n",
       "  'Location': 'Geneva'},\n",
       " {'Headline': 'Italian influencer sorry for hospital cake claim',\n",
       "  'Description': \"Chiara Ferragni was fined for claiming sales of a Christmas pandoro would fund a children's hospital.\",\n",
       "  'Time': '6 hrs ago',\n",
       "  'Location': 'Italy'},\n",
       " {'Headline': 'Watch: Iceland volcano erupting after weeks of earthquake activity',\n",
       "  'Description': 'Thousands have been evacuated from the fishing town of Grindavik, about 4km from where the eruption started.',\n",
       "  'Time': '7 hrs ago',\n",
       "  'Location': 'Iceland'},\n",
       " {'Headline': 'China rescuers brave cold as quake toll mounts',\n",
       "  'Description': \"The 6.2 magnitude earthquake flattened mountain villages in one of the country's poorest regions.\",\n",
       "  'Time': '3 hrs ago',\n",
       "  'Location': 'China'},\n",
       " {'Headline': 'Meta steadfast on Canada news ban as law comes online',\n",
       "  'Description': '11 hrs ago',\n",
       "  'Time': 'US & Canada'},\n",
       " {'Headline': 'Ukraine is not starting to lose this war - Zelensky',\n",
       "  'Description': 'Couple lose case over $165 mask sold for millions',\n",
       "  'Time': '4 hrs ago',\n",
       "  'Location': 'Ukraine'},\n",
       " {'Headline': 'Wolves released into Colorado mountains',\n",
       "  'Description': '5 hrs ago',\n",
       "  'Time': 'US & Canada'},\n",
       " {'Headline': 'Google to pay $700m to settle antitrust lawsuit',\n",
       "  'Description': '51 mins ago',\n",
       "  'Time': 'Business'},\n",
       " {'Headline': 'Spider-Man 2 studio victim of huge hack',\n",
       "  'Description': '6 hrs ago',\n",
       "  'Time': 'Newsbeat'},\n",
       " {'Headline': '$857m awarded over leaking lights at US school',\n",
       "  'Description': '10 hrs ago',\n",
       "  'Time': 'Business'},\n",
       " {'Headline': 'Nasa beams cat video from deep space with laser',\n",
       "  'Description': '6 hrs ago',\n",
       "  'Time': 'Technology'},\n",
       " {'Headline': 'Thai hostage speaks of captivity with Israelis killed by mistake',\n",
       "  'Description': '20 hrs ago',\n",
       "  'Time': 'Asia'},\n",
       " {'Headline': \"Footage shows inside of 'biggest ever' Gaza tunnel\",\n",
       "  'Description': '1 day ago',\n",
       "  'Time': 'Middle East'},\n",
       " {'Headline': 'Hamas shows video of three elderly Israeli hostages',\n",
       "  'Description': '20 hrs ago',\n",
       "  'Time': 'Middle East'},\n",
       " {'Headline': 'BP pauses all Red Sea shipments after rebel attacks',\n",
       "  'Description': '20 hrs ago',\n",
       "  'Time': 'Business'},\n",
       " {'Headline': \"Gazans trapped in church 'fear being shot'\",\n",
       "  'Description': '1 day ago',\n",
       "  'Time': 'Middle East'},\n",
       " {'Headline': 'Spectacular photos of eruption in Iceland',\n",
       "  'Description': '6 hrs ago',\n",
       "  'Time': 'Europe'},\n",
       " {'Headline': 'The staggering cost of going all out on Christmas decorations',\n",
       "  'Description': 'Some Americans spend thousands each year on their elaborate holiday displays.',\n",
       "  'Time': '2 hrs ago'},\n",
       " {'Headline': \"How AI may affect India's vast film industry\",\n",
       "  'Description': \"As AI enters Indian films, experts say it's time to deal with its ethical and creative ramifications.\",\n",
       "  'Time': '20 hrs ago',\n",
       "  'Location': 'India'},\n",
       " {'Headline': \"Why this Iceland volcano won't cause flight chaos\",\n",
       "  'Description': \"The Reykjanes eruption will not cause same travel disruption as 2010's Eyjafjallajökull volcano.\",\n",
       "  'Time': '5 hrs ago',\n",
       "  'Location': 'Iceland'},\n",
       " {'Headline': 'What do Red Sea assaults mean for global trade?',\n",
       "  'Description': 'Supply chains face disruption due to vessels diverting away from the key shipping route.',\n",
       "  'Time': '3 hrs ago',\n",
       "  'Location': 'Business'},\n",
       " {'Headline': 'The staggering cost of going all out on Christmas decorations',\n",
       "  'Description': 'Some Americans spend thousands each year on their elaborate holiday displays.',\n",
       "  'Time': '2 hrs ago'},\n",
       " {'Headline': 'I was raped while sleeping under a pier in Blackpool',\n",
       "  'Description': 'Homeless people tell the BBC about violent, sexual and degrading attacks they suffer as they sleep.',\n",
       "  'Time': '14 hrs ago',\n",
       "  'Location': 'UK'},\n",
       " {'Headline': 'The UK family travelling plane-free to Australia',\n",
       "  'Description': 'A family have reached Indonesia without flying after a journey of three and a half months.',\n",
       "  'Time': '22 hrs ago',\n",
       "  'Location': 'Somerset'},\n",
       " {'Headline': \"How AI may affect India's vast film industry\",\n",
       "  'Description': \"As AI enters Indian films, experts say it's time to deal with its ethical and creative ramifications.\",\n",
       "  'Time': '20 hrs ago',\n",
       "  'Location': 'India'}]"
      ]
     },
     "execution_count": 26,
     "metadata": {},
     "output_type": "execute_result"
    }
   ],
   "source": [
    "structured_schema = {\n",
    "    \"properties\": {\n",
    "        \"Headline\": {\"type\": \"string\"},\n",
    "        \"Description\": {\"type\": \"string\"},\n",
    "        \"Time\":{\"type\":\"string\"},\n",
    "        \"Location\":{\"type\":\"string\"}\n",
    "    },\n",
    "    \"required\": [\"Headline\",\"Description\",\"Time\"],\n",
    "}\n",
    "extraction_chain = create_extraction_chain(structured_schema, llm)\n",
    "extraction_chain.run(output)"
   ]
  },
  {
   "cell_type": "code",
   "execution_count": null,
   "id": "93f22a17-2290-4d1f-88fb-a0bdf91ff158",
   "metadata": {},
   "outputs": [],
   "source": []
  },
  {
   "cell_type": "code",
   "execution_count": null,
   "id": "2823ab18-6fb1-45cc-962f-07318373a878",
   "metadata": {},
   "outputs": [],
   "source": []
  },
  {
   "cell_type": "code",
   "execution_count": null,
   "id": "c16f473e-c513-4d33-aa5f-ff2cdf4446a0",
   "metadata": {},
   "outputs": [],
   "source": []
  }
 ],
 "metadata": {
  "kernelspec": {
   "display_name": "Python 3 (ipykernel)",
   "language": "python",
   "name": "python3"
  },
  "language_info": {
   "codemirror_mode": {
    "name": "ipython",
    "version": 3
   },
   "file_extension": ".py",
   "mimetype": "text/x-python",
   "name": "python",
   "nbconvert_exporter": "python",
   "pygments_lexer": "ipython3",
   "version": "3.11.5"
  }
 },
 "nbformat": 4,
 "nbformat_minor": 5
}
